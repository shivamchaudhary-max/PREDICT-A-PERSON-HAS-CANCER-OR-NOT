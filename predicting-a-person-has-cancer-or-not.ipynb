{
 "cells": [
  {
   "cell_type": "code",
   "execution_count": 1,
   "id": "1086c0c7",
   "metadata": {
    "execution": {
     "iopub.execute_input": "2022-01-20T16:53:14.672537Z",
     "iopub.status.busy": "2022-01-20T16:53:14.671331Z",
     "iopub.status.idle": "2022-01-20T16:53:14.682071Z",
     "shell.execute_reply": "2022-01-20T16:53:14.681320Z",
     "shell.execute_reply.started": "2022-01-20T16:47:57.501769Z"
    },
    "papermill": {
     "duration": 0.026729,
     "end_time": "2022-01-20T16:53:14.682326",
     "exception": false,
     "start_time": "2022-01-20T16:53:14.655597",
     "status": "completed"
    },
    "tags": []
   },
   "outputs": [],
   "source": [
    "import numpy as np\n",
    "import pandas as pd"
   ]
  },
  {
   "cell_type": "code",
   "execution_count": 2,
   "id": "6b2c9187",
   "metadata": {
    "execution": {
     "iopub.execute_input": "2022-01-20T16:53:14.710328Z",
     "iopub.status.busy": "2022-01-20T16:53:14.709565Z",
     "iopub.status.idle": "2022-01-20T16:53:14.729615Z",
     "shell.execute_reply": "2022-01-20T16:53:14.730161Z",
     "shell.execute_reply.started": "2022-01-20T16:50:01.476952Z"
    },
    "papermill": {
     "duration": 0.036546,
     "end_time": "2022-01-20T16:53:14.730367",
     "exception": false,
     "start_time": "2022-01-20T16:53:14.693821",
     "status": "completed"
    },
    "tags": []
   },
   "outputs": [],
   "source": [
    "breast_cancer=pd.read_csv('../input/breast-cancer-dataset/breast-cancer-wisconsin.csv')"
   ]
  },
  {
   "cell_type": "code",
   "execution_count": 3,
   "id": "8849fba7",
   "metadata": {
    "execution": {
     "iopub.execute_input": "2022-01-20T16:53:14.760122Z",
     "iopub.status.busy": "2022-01-20T16:53:14.759433Z",
     "iopub.status.idle": "2022-01-20T16:53:14.774003Z",
     "shell.execute_reply": "2022-01-20T16:53:14.774606Z",
     "shell.execute_reply.started": "2022-01-20T16:50:12.801930Z"
    },
    "papermill": {
     "duration": 0.032217,
     "end_time": "2022-01-20T16:53:14.774797",
     "exception": false,
     "start_time": "2022-01-20T16:53:14.742580",
     "status": "completed"
    },
    "tags": []
   },
   "outputs": [
    {
     "data": {
      "text/plain": [
       "sample_code         int64\n",
       "clump_thickness     int64\n",
       "cell_size           int64\n",
       "cell_shape          int64\n",
       "marg_adhes          int64\n",
       "epi_cell_size       int64\n",
       "bare_nuc           object\n",
       "bland_chr           int64\n",
       "normal_nuc          int64\n",
       "motoses             int64\n",
       "class               int64\n",
       "dtype: object"
      ]
     },
     "execution_count": 3,
     "metadata": {},
     "output_type": "execute_result"
    }
   ],
   "source": [
    "breast_cancer.dtypes"
   ]
  },
  {
   "cell_type": "code",
   "execution_count": 4,
   "id": "b064035c",
   "metadata": {
    "execution": {
     "iopub.execute_input": "2022-01-20T16:53:14.806074Z",
     "iopub.status.busy": "2022-01-20T16:53:14.805312Z",
     "iopub.status.idle": "2022-01-20T16:53:14.816716Z",
     "shell.execute_reply": "2022-01-20T16:53:14.817316Z",
     "shell.execute_reply.started": "2022-01-20T16:50:25.837220Z"
    },
    "papermill": {
     "duration": 0.030561,
     "end_time": "2022-01-20T16:53:14.817525",
     "exception": false,
     "start_time": "2022-01-20T16:53:14.786964",
     "status": "completed"
    },
    "tags": []
   },
   "outputs": [],
   "source": [
    "breast_cancer=breast_cancer.drop(columns=['bare_nuc'])"
   ]
  },
  {
   "cell_type": "code",
   "execution_count": 5,
   "id": "cdf7365d",
   "metadata": {
    "execution": {
     "iopub.execute_input": "2022-01-20T16:53:14.852002Z",
     "iopub.status.busy": "2022-01-20T16:53:14.850974Z",
     "iopub.status.idle": "2022-01-20T16:53:14.869298Z",
     "shell.execute_reply": "2022-01-20T16:53:14.868593Z",
     "shell.execute_reply.started": "2022-01-20T16:50:37.082788Z"
    },
    "papermill": {
     "duration": 0.03707,
     "end_time": "2022-01-20T16:53:14.869490",
     "exception": false,
     "start_time": "2022-01-20T16:53:14.832420",
     "status": "completed"
    },
    "tags": []
   },
   "outputs": [
    {
     "data": {
      "text/html": [
       "<div>\n",
       "<style scoped>\n",
       "    .dataframe tbody tr th:only-of-type {\n",
       "        vertical-align: middle;\n",
       "    }\n",
       "\n",
       "    .dataframe tbody tr th {\n",
       "        vertical-align: top;\n",
       "    }\n",
       "\n",
       "    .dataframe thead th {\n",
       "        text-align: right;\n",
       "    }\n",
       "</style>\n",
       "<table border=\"1\" class=\"dataframe\">\n",
       "  <thead>\n",
       "    <tr style=\"text-align: right;\">\n",
       "      <th></th>\n",
       "      <th>sample_code</th>\n",
       "      <th>clump_thickness</th>\n",
       "      <th>cell_size</th>\n",
       "      <th>cell_shape</th>\n",
       "      <th>marg_adhes</th>\n",
       "      <th>epi_cell_size</th>\n",
       "      <th>bland_chr</th>\n",
       "      <th>normal_nuc</th>\n",
       "      <th>motoses</th>\n",
       "      <th>class</th>\n",
       "    </tr>\n",
       "  </thead>\n",
       "  <tbody>\n",
       "    <tr>\n",
       "      <th>0</th>\n",
       "      <td>1002945</td>\n",
       "      <td>5</td>\n",
       "      <td>4</td>\n",
       "      <td>4</td>\n",
       "      <td>5</td>\n",
       "      <td>7</td>\n",
       "      <td>3</td>\n",
       "      <td>2</td>\n",
       "      <td>1</td>\n",
       "      <td>2</td>\n",
       "    </tr>\n",
       "    <tr>\n",
       "      <th>1</th>\n",
       "      <td>1015425</td>\n",
       "      <td>3</td>\n",
       "      <td>1</td>\n",
       "      <td>1</td>\n",
       "      <td>1</td>\n",
       "      <td>2</td>\n",
       "      <td>3</td>\n",
       "      <td>1</td>\n",
       "      <td>1</td>\n",
       "      <td>2</td>\n",
       "    </tr>\n",
       "    <tr>\n",
       "      <th>2</th>\n",
       "      <td>1016277</td>\n",
       "      <td>6</td>\n",
       "      <td>8</td>\n",
       "      <td>8</td>\n",
       "      <td>1</td>\n",
       "      <td>3</td>\n",
       "      <td>3</td>\n",
       "      <td>7</td>\n",
       "      <td>1</td>\n",
       "      <td>2</td>\n",
       "    </tr>\n",
       "    <tr>\n",
       "      <th>3</th>\n",
       "      <td>1017023</td>\n",
       "      <td>4</td>\n",
       "      <td>1</td>\n",
       "      <td>1</td>\n",
       "      <td>3</td>\n",
       "      <td>2</td>\n",
       "      <td>3</td>\n",
       "      <td>1</td>\n",
       "      <td>1</td>\n",
       "      <td>2</td>\n",
       "    </tr>\n",
       "    <tr>\n",
       "      <th>4</th>\n",
       "      <td>1017122</td>\n",
       "      <td>8</td>\n",
       "      <td>10</td>\n",
       "      <td>10</td>\n",
       "      <td>8</td>\n",
       "      <td>7</td>\n",
       "      <td>9</td>\n",
       "      <td>7</td>\n",
       "      <td>1</td>\n",
       "      <td>4</td>\n",
       "    </tr>\n",
       "  </tbody>\n",
       "</table>\n",
       "</div>"
      ],
      "text/plain": [
       "   sample_code  clump_thickness  cell_size  cell_shape  marg_adhes  \\\n",
       "0      1002945                5          4           4           5   \n",
       "1      1015425                3          1           1           1   \n",
       "2      1016277                6          8           8           1   \n",
       "3      1017023                4          1           1           3   \n",
       "4      1017122                8         10          10           8   \n",
       "\n",
       "   epi_cell_size  bland_chr  normal_nuc  motoses  class  \n",
       "0              7          3           2        1      2  \n",
       "1              2          3           1        1      2  \n",
       "2              3          3           7        1      2  \n",
       "3              2          3           1        1      2  \n",
       "4              7          9           7        1      4  "
      ]
     },
     "execution_count": 5,
     "metadata": {},
     "output_type": "execute_result"
    }
   ],
   "source": [
    "breast_cancer.head()"
   ]
  },
  {
   "cell_type": "code",
   "execution_count": 6,
   "id": "5fbe7e73",
   "metadata": {
    "execution": {
     "iopub.execute_input": "2022-01-20T16:53:14.906172Z",
     "iopub.status.busy": "2022-01-20T16:53:14.899095Z",
     "iopub.status.idle": "2022-01-20T16:53:14.911275Z",
     "shell.execute_reply": "2022-01-20T16:53:14.910407Z",
     "shell.execute_reply.started": "2022-01-20T16:50:51.743532Z"
    },
    "papermill": {
     "duration": 0.029453,
     "end_time": "2022-01-20T16:53:14.911467",
     "exception": false,
     "start_time": "2022-01-20T16:53:14.882014",
     "status": "completed"
    },
    "tags": []
   },
   "outputs": [
    {
     "name": "stdout",
     "output_type": "stream",
     "text": [
      "     sample_code  clump_thickness  cell_size  cell_shape  marg_adhes  \\\n",
      "0        1002945                5          4           4           5   \n",
      "1        1015425                3          1           1           1   \n",
      "2        1016277                6          8           8           1   \n",
      "3        1017023                4          1           1           3   \n",
      "4        1017122                8         10          10           8   \n",
      "..           ...              ...        ...         ...         ...   \n",
      "693       776715                3          1           1           1   \n",
      "694       841769                2          1           1           1   \n",
      "695       888820                5         10          10           3   \n",
      "696       897471                4          8           6           4   \n",
      "697       897471                4          8           8           5   \n",
      "\n",
      "     epi_cell_size  bland_chr  normal_nuc  motoses  \n",
      "0                7          3           2        1  \n",
      "1                2          3           1        1  \n",
      "2                3          3           7        1  \n",
      "3                2          3           1        1  \n",
      "4                7          9           7        1  \n",
      "..             ...        ...         ...      ...  \n",
      "693              3          1           1        1  \n",
      "694              2          1           1        1  \n",
      "695              7          8          10        2  \n",
      "696              3         10           6        1  \n",
      "697              4         10           4        1  \n",
      "\n",
      "[698 rows x 9 columns]\n",
      "0      2\n",
      "1      2\n",
      "2      2\n",
      "3      2\n",
      "4      4\n",
      "      ..\n",
      "693    2\n",
      "694    2\n",
      "695    4\n",
      "696    4\n",
      "697    4\n",
      "Name: class, Length: 698, dtype: int64\n"
     ]
    }
   ],
   "source": [
    "x4=breast_cancer.iloc[:,0:9]\n",
    "y4=breast_cancer.iloc[:,9]\n",
    "print(x4)\n",
    "print(y4)"
   ]
  },
  {
   "cell_type": "code",
   "execution_count": 7,
   "id": "dbb573b7",
   "metadata": {
    "execution": {
     "iopub.execute_input": "2022-01-20T16:53:14.942394Z",
     "iopub.status.busy": "2022-01-20T16:53:14.941663Z",
     "iopub.status.idle": "2022-01-20T16:53:16.273165Z",
     "shell.execute_reply": "2022-01-20T16:53:16.272601Z",
     "shell.execute_reply.started": "2022-01-20T16:51:45.079535Z"
    },
    "papermill": {
     "duration": 1.349189,
     "end_time": "2022-01-20T16:53:16.273342",
     "exception": false,
     "start_time": "2022-01-20T16:53:14.924153",
     "status": "completed"
    },
    "tags": []
   },
   "outputs": [],
   "source": [
    "  # Load libraries\n",
    "  import pandas as pd\n",
    "  from sklearn.tree import DecisionTreeClassifier # Import Decision Tree Classifier\n",
    "  from sklearn.model_selection import train_test_split # Import train_test_split function\n",
    "  from sklearn import metrics #Import scikit-learn metrics module for accuracy calculation\n",
    "x4_train,x4_test,y4_train,y4_test=train_test_split(x4,y4,test_size=0.25,random_state=0)\n"
   ]
  },
  {
   "cell_type": "code",
   "execution_count": 8,
   "id": "429479d9",
   "metadata": {
    "execution": {
     "iopub.execute_input": "2022-01-20T16:53:16.301181Z",
     "iopub.status.busy": "2022-01-20T16:53:16.300513Z",
     "iopub.status.idle": "2022-01-20T16:53:16.314826Z",
     "shell.execute_reply": "2022-01-20T16:53:16.314224Z",
     "shell.execute_reply.started": "2022-01-20T16:52:09.598240Z"
    },
    "papermill": {
     "duration": 0.029415,
     "end_time": "2022-01-20T16:53:16.314966",
     "exception": false,
     "start_time": "2022-01-20T16:53:16.285551",
     "status": "completed"
    },
    "tags": []
   },
   "outputs": [],
   "source": [
    "#Import Gaussian Naive Bayes model\n",
    "from sklearn.naive_bayes import GaussianNB\n",
    "\n",
    "#Create a Gaussian Classifier\n",
    "model = GaussianNB()\n",
    "\n",
    "# Train the model using the training sets\n",
    "model.fit(x4,y4)\n",
    "y_pred1 = model.predict(x4_train)\n",
    "\n",
    "#Predict the response for test dataset\n",
    "y_pred = model.predict(x4_test)"
   ]
  },
  {
   "cell_type": "code",
   "execution_count": 9,
   "id": "43096df4",
   "metadata": {
    "execution": {
     "iopub.execute_input": "2022-01-20T16:53:16.344576Z",
     "iopub.status.busy": "2022-01-20T16:53:16.343896Z",
     "iopub.status.idle": "2022-01-20T16:53:16.347039Z",
     "shell.execute_reply": "2022-01-20T16:53:16.347575Z",
     "shell.execute_reply.started": "2022-01-20T16:52:25.028893Z"
    },
    "papermill": {
     "duration": 0.020865,
     "end_time": "2022-01-20T16:53:16.347747",
     "exception": false,
     "start_time": "2022-01-20T16:53:16.326882",
     "status": "completed"
    },
    "tags": []
   },
   "outputs": [
    {
     "name": "stdout",
     "output_type": "stream",
     "text": [
      "Predicted Value: [4]\n"
     ]
    }
   ],
   "source": [
    "#Predict Output\n",
    "predicted= model.predict([[1002945,5,4,4,5,7,3,2,1]]) \n",
    "print(\"Predicted Value:\", predicted)"
   ]
  },
  {
   "cell_type": "code",
   "execution_count": 10,
   "id": "9959a4d6",
   "metadata": {
    "execution": {
     "iopub.execute_input": "2022-01-20T16:53:16.377043Z",
     "iopub.status.busy": "2022-01-20T16:53:16.376050Z",
     "iopub.status.idle": "2022-01-20T16:53:16.382133Z",
     "shell.execute_reply": "2022-01-20T16:53:16.382675Z",
     "shell.execute_reply.started": "2022-01-20T16:52:37.695364Z"
    },
    "papermill": {
     "duration": 0.022506,
     "end_time": "2022-01-20T16:53:16.382859",
     "exception": false,
     "start_time": "2022-01-20T16:53:16.360353",
     "status": "completed"
    },
    "tags": []
   },
   "outputs": [
    {
     "name": "stdout",
     "output_type": "stream",
     "text": [
      "Accuracy Train: 0.8604206500956023\n"
     ]
    }
   ],
   "source": [
    "##Evaluating Model\n",
    "\n",
    "#Import scikit-learn metrics module for accuracy calculation\n",
    "from sklearn import metrics\n",
    "\n",
    "# Model Accuracy, how often is the classifier correct?\n",
    "print(\"Accuracy Train:\",metrics.accuracy_score(y4_train, y_pred1))"
   ]
  },
  {
   "cell_type": "code",
   "execution_count": 11,
   "id": "31f371bf",
   "metadata": {
    "execution": {
     "iopub.execute_input": "2022-01-20T16:53:16.410960Z",
     "iopub.status.busy": "2022-01-20T16:53:16.410338Z",
     "iopub.status.idle": "2022-01-20T16:53:16.415368Z",
     "shell.execute_reply": "2022-01-20T16:53:16.415856Z",
     "shell.execute_reply.started": "2022-01-20T16:52:49.651839Z"
    },
    "papermill": {
     "duration": 0.02054,
     "end_time": "2022-01-20T16:53:16.416018",
     "exception": false,
     "start_time": "2022-01-20T16:53:16.395478",
     "status": "completed"
    },
    "tags": []
   },
   "outputs": [
    {
     "name": "stdout",
     "output_type": "stream",
     "text": [
      "Accuracy Test: 0.8457142857142858\n"
     ]
    }
   ],
   "source": [
    "# Model Accuracy Test, how often is the classifier correct?\n",
    "print(\"Accuracy Test:\",metrics.accuracy_score(y4_test, y_pred))"
   ]
  },
  {
   "cell_type": "code",
   "execution_count": null,
   "id": "218590e0",
   "metadata": {
    "papermill": {
     "duration": 0.012625,
     "end_time": "2022-01-20T16:53:16.442029",
     "exception": false,
     "start_time": "2022-01-20T16:53:16.429404",
     "status": "completed"
    },
    "tags": []
   },
   "outputs": [],
   "source": []
  }
 ],
 "metadata": {
  "kernelspec": {
   "display_name": "Python 3",
   "language": "python",
   "name": "python3"
  },
  "language_info": {
   "codemirror_mode": {
    "name": "ipython",
    "version": 3
   },
   "file_extension": ".py",
   "mimetype": "text/x-python",
   "name": "python",
   "nbconvert_exporter": "python",
   "pygments_lexer": "ipython3",
   "version": "3.7.12"
  },
  "papermill": {
   "default_parameters": {},
   "duration": 12.706096,
   "end_time": "2022-01-20T16:53:17.165078",
   "environment_variables": {},
   "exception": null,
   "input_path": "__notebook__.ipynb",
   "output_path": "__notebook__.ipynb",
   "parameters": {},
   "start_time": "2022-01-20T16:53:04.458982",
   "version": "2.3.3"
  }
 },
 "nbformat": 4,
 "nbformat_minor": 5
}
